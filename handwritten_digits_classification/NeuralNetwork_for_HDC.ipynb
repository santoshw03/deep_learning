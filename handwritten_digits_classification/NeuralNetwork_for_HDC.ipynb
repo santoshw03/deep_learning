{
 "cells": [
  {
   "cell_type": "code",
   "execution_count": 21,
   "id": "00a42476-9263-43f2-960e-c7ffa8e54f68",
   "metadata": {},
   "outputs": [],
   "source": [
    "import tensorflow as tf\n",
    "from tensorflow import keras\n",
    "import matplotlib.pyplot as plt\n",
    "%matplotlib inline\n",
    "import numpy as np\n",
    "import pandas as pd"
   ]
  },
  {
   "cell_type": "markdown",
   "id": "47822fe1-788a-4c92-8b2d-315c8aa5214f",
   "metadata": {},
   "source": [
    "#Loading handwritten digits dataset from keras library"
   ]
  },
  {
   "cell_type": "code",
   "execution_count": 3,
   "id": "42517740-30ca-4d8d-bdcd-37a2ac881f73",
   "metadata": {},
   "outputs": [],
   "source": [
    "(x_train,y_train),(x_test,y_test) = keras.datasets.mnist.load_data()"
   ]
  },
  {
   "cell_type": "code",
   "execution_count": 5,
   "id": "84bdefd1-8c57-4e67-b49e-6dcb1f0678a9",
   "metadata": {},
   "outputs": [
    {
     "data": {
      "text/plain": [
       "60000"
      ]
     },
     "execution_count": 5,
     "metadata": {},
     "output_type": "execute_result"
    }
   ],
   "source": [
    "#lets see how many samples we have:\n",
    "len(x_train)"
   ]
  },
  {
   "cell_type": "code",
   "execution_count": 7,
   "id": "83032c5e-37d9-486a-994b-3239a6571641",
   "metadata": {},
   "outputs": [],
   "source": [
    "#hence we have 60000 digits images for training"
   ]
  },
  {
   "cell_type": "code",
   "execution_count": 8,
   "id": "23835032-8b5b-45dd-b067-c38a4da699e4",
   "metadata": {},
   "outputs": [
    {
     "data": {
      "text/plain": [
       "10000"
      ]
     },
     "execution_count": 8,
     "metadata": {},
     "output_type": "execute_result"
    }
   ],
   "source": [
    "#similarly number of images for testing:\n",
    "len(x_test)"
   ]
  },
  {
   "cell_type": "code",
   "execution_count": 9,
   "id": "d72d3bdf-bcbf-40ba-821f-e079591058ec",
   "metadata": {},
   "outputs": [
    {
     "data": {
      "text/plain": [
       "(28, 28)"
      ]
     },
     "execution_count": 9,
     "metadata": {},
     "output_type": "execute_result"
    }
   ],
   "source": [
    "x_train[0].shape"
   ]
  },
  {
   "cell_type": "code",
   "execution_count": 10,
   "id": "c23c9da9-d56f-40c0-b2e2-babfcc7a997e",
   "metadata": {},
   "outputs": [],
   "source": [
    "#each sample is a 28 by 28 pixel image"
   ]
  },
  {
   "cell_type": "markdown",
   "id": "694caa85-49c0-45f3-ba0e-a0ad12b49813",
   "metadata": {},
   "source": [
    "#lets see how it looks "
   ]
  },
  {
   "cell_type": "code",
   "execution_count": 11,
   "id": "d7829cce-3d18-46f3-9bd5-82ea95fcbfa4",
   "metadata": {},
   "outputs": [
    {
     "data": {
      "text/plain": [
       "<matplotlib.image.AxesImage at 0x165a47fc350>"
      ]
     },
     "execution_count": 11,
     "metadata": {},
     "output_type": "execute_result"
    },
    {
     "data": {
      "image/png": "[encoded data removed]",
      "text/plain": [
       "<Figure size 480x480 with 1 Axes>"
      ]
     },
     "metadata": {},
     "output_type": "display_data"
    }
   ],
   "source": [
    "plt.matshow(x_train[0])"
   ]
  },
  {
   "cell_type": "code",
   "execution_count": 12,
   "id": "d5a662c2-89ea-4ab0-98ea-78fd26622f52",
   "metadata": {},
   "outputs": [],
   "source": [
    "#it is a image of handwritten 5"
   ]
  },
  {
   "cell_type": "code",
   "execution_count": 14,
   "id": "b14bc8da-ef91-461c-bb79-53412f2da90c",
   "metadata": {},
   "outputs": [
    {
     "data": {
      "text/plain": [
       "5"
      ]
     },
     "execution_count": 14,
     "metadata": {},
     "output_type": "execute_result"
    }
   ],
   "source": [
    "#lets see what value is given in the training data for this image (it should be 5):\n",
    "y_train[0]"
   ]
  },
  {
   "cell_type": "code",
   "execution_count": 15,
   "id": "ffc4aa9d-d90a-4d0d-a0d9-aa8ddd3fd9d5",
   "metadata": {},
   "outputs": [],
   "source": [
    "#similarly lets check for some other training data:"
   ]
  },
  {
   "cell_type": "code",
   "execution_count": 17,
   "id": "1bb4e773-4093-4a0a-bfce-bdd29d0785a3",
   "metadata": {},
   "outputs": [
    {
     "data": {
      "text/plain": [
       "<matplotlib.image.AxesImage at 0x165a5063530>"
      ]
     },
     "execution_count": 17,
     "metadata": {},
     "output_type": "execute_result"
    },
    {
     "data": {
      "image/png": "[encoded data removed]",
      "text/plain": [
       "<Figure size 480x480 with 1 Axes>"
      ]
     },
     "metadata": {},
     "output_type": "display_data"
    }
   ],
   "source": [
    "plt.matshow(x_train[4])"
   ]
  },
  {
   "cell_type": "code",
   "execution_count": 18,
   "id": "0c9e5791-f823-4f74-8b4b-cd82cf69778b",
   "metadata": {},
   "outputs": [
    {
     "data": {
      "text/plain": [
       "9"
      ]
     },
     "execution_count": 18,
     "metadata": {},
     "output_type": "execute_result"
    }
   ],
   "source": [
    "#value:\n",
    "y_train[4]"
   ]
  },
  {
   "cell_type": "code",
   "execution_count": 19,
   "id": "42a4bcba-3d3f-4c22-b434-a6de372d9c22",
   "metadata": {},
   "outputs": [],
   "source": [
    "#so we can see this is how the data is trained"
   ]
  },
  {
   "cell_type": "markdown",
   "id": "6d792e1a-41f5-4bca-91a1-3acdd1d307cc",
   "metadata": {},
   "source": [
    "#Scaling"
   ]
  },
  {
   "cell_type": "code",
   "execution_count": 33,
   "id": "1015dff6-5c97-4856-884b-f4dbe6df5271",
   "metadata": {},
   "outputs": [],
   "source": [
    "x_train = x_train/255\n",
    "x_test = x_test/255"
   ]
  },
  {
   "cell_type": "code",
   "execution_count": 34,
   "id": "c4d8da7c-1640-49ef-a95f-ec5a6b6b433f",
   "metadata": {},
   "outputs": [],
   "source": [
    "#now we have to flatten the 28x28 training data into a single dimension of 784 , to provide the data to the neural network\n",
    "# for that we will use reshape function of pandas"
   ]
  },
  {
   "cell_type": "code",
   "execution_count": 35,
   "id": "fcbbfbea-4d2a-4d91-92a5-64c9d2ad0def",
   "metadata": {},
   "outputs": [
    {
     "data": {
      "text/plain": [
       "(60000, 28, 28)"
      ]
     },
     "execution_count": 35,
     "metadata": {},
     "output_type": "execute_result"
    }
   ],
   "source": [
    "#shape before:\n",
    "x_train.shape"
   ]
  },
  {
   "cell_type": "code",
   "execution_count": 36,
   "id": "f52f5aa4-2a65-4832-9279-39b6450cbbbd",
   "metadata": {},
   "outputs": [
    {
     "data": {
      "text/plain": [
       "array([[0., 0., 0., ..., 0., 0., 0.],\n",
       "       [0., 0., 0., ..., 0., 0., 0.],\n",
       "       [0., 0., 0., ..., 0., 0., 0.],\n",
       "       ...,\n",
       "       [0., 0., 0., ..., 0., 0., 0.],\n",
       "       [0., 0., 0., ..., 0., 0., 0.],\n",
       "       [0., 0., 0., ..., 0., 0., 0.]])"
      ]
     },
     "execution_count": 36,
     "metadata": {},
     "output_type": "execute_result"
    }
   ],
   "source": [
    "#shape we want :- (60000,784)\n",
    "x_train.reshape(len(x_train),28*28)"
   ]
  },
  {
   "cell_type": "code",
   "execution_count": 37,
   "id": "03171bff-2a9b-4b19-b8fb-41a6b71fdd60",
   "metadata": {},
   "outputs": [],
   "source": [
    "x_train_flattened = x_train.reshape(len(x_train),28*28)"
   ]
  },
  {
   "cell_type": "code",
   "execution_count": 38,
   "id": "b880d49a-e39f-4c4a-b3ae-23026f405888",
   "metadata": {},
   "outputs": [
    {
     "data": {
      "text/plain": [
       "(60000, 784)"
      ]
     },
     "execution_count": 38,
     "metadata": {},
     "output_type": "execute_result"
    }
   ],
   "source": [
    "x_train_flattened.shape"
   ]
  },
  {
   "cell_type": "code",
   "execution_count": 39,
   "id": "79a199eb-2bfa-469e-b0d7-7a65f28d28f7",
   "metadata": {},
   "outputs": [],
   "source": [
    "#we got the desired shape;"
   ]
  },
  {
   "cell_type": "code",
   "execution_count": 40,
   "id": "6a58a081-81b9-46b3-84d1-6bd376949b3e",
   "metadata": {},
   "outputs": [],
   "source": [
    "#now same with the x_test i.e test input data:\n",
    "x_test_flattened = x_test.reshape(len(x_test),28*28)"
   ]
  },
  {
   "cell_type": "code",
   "execution_count": 41,
   "id": "caa76c48-d5d4-40f8-88ce-4c5aab9b675f",
   "metadata": {},
   "outputs": [
    {
     "data": {
      "text/plain": [
       "(10000, 28, 28)"
      ]
     },
     "execution_count": 41,
     "metadata": {},
     "output_type": "execute_result"
    }
   ],
   "source": [
    "#before:\n",
    "x_test.shape"
   ]
  },
  {
   "cell_type": "code",
   "execution_count": 42,
   "id": "9c71fbbe-173d-42ba-98af-a45307ded0dd",
   "metadata": {},
   "outputs": [
    {
     "data": {
      "text/plain": [
       "(10000, 784)"
      ]
     },
     "execution_count": 42,
     "metadata": {},
     "output_type": "execute_result"
    }
   ],
   "source": [
    "#after:\n",
    "x_test_flattened.shape"
   ]
  },
  {
   "cell_type": "markdown",
   "id": "f9b91a2f-57ff-40ae-ac05-6eb4f1699178",
   "metadata": {},
   "source": [
    "# Creating Neural Network"
   ]
  },
  {
   "cell_type": "code",
   "execution_count": 45,
   "id": "810967b5-d77f-4e77-8ff1-00e470f7b58b",
   "metadata": {},
   "outputs": [
    {
     "name": "stdout",
     "output_type": "stream",
     "text": [
      "Epoch 1/5\n",
      "\u001b[1m1875/1875\u001b[0m \u001b[32m━━━━━━━━━━━━━━━━━━━━\u001b[0m\u001b[37m\u001b[0m \u001b[1m2s\u001b[0m 755us/step - accuracy: 0.8119 - loss: 0.7249\n",
      "Epoch 2/5\n",
      "\u001b[1m1875/1875\u001b[0m \u001b[32m━━━━━━━━━━━━━━━━━━━━\u001b[0m\u001b[37m\u001b[0m \u001b[1m1s\u001b[0m 642us/step - accuracy: 0.9139 - loss: 0.3124\n",
      "Epoch 3/5\n",
      "\u001b[1m1875/1875\u001b[0m \u001b[32m━━━━━━━━━━━━━━━━━━━━\u001b[0m\u001b[37m\u001b[0m \u001b[1m1s\u001b[0m 667us/step - accuracy: 0.9203 - loss: 0.2831\n",
      "Epoch 4/5\n",
      "\u001b[1m1875/1875\u001b[0m \u001b[32m━━━━━━━━━━━━━━━━━━━━\u001b[0m\u001b[37m\u001b[0m \u001b[1m1s\u001b[0m 659us/step - accuracy: 0.9235 - loss: 0.2732\n",
      "Epoch 5/5\n",
      "\u001b[1m1875/1875\u001b[0m \u001b[32m━━━━━━━━━━━━━━━━━━━━\u001b[0m\u001b[37m\u001b[0m \u001b[1m1s\u001b[0m 747us/step - accuracy: 0.9248 - loss: 0.2694\n"
     ]
    },
    {
     "data": {
      "text/plain": [
       "<keras.src.callbacks.history.History at 0x165ae4ae180>"
      ]
     },
     "execution_count": 45,
     "metadata": {},
     "output_type": "execute_result"
    }
   ],
   "source": [
    "#sequential means a stack of layers in neural network\n",
    "model = keras.Sequential([\n",
    "    keras.layers.Dense(10,input_shape=(784,),activation='sigmoid') #10 outputs and 784 inputs\n",
    "]) \n",
    "#compilation of model\n",
    "model.compile(\n",
    "    optimizer='adam',\n",
    "    loss='sparse_categorical_crossentropy',\n",
    "    metrics=['accuracy']\n",
    ")\n",
    "#training:\n",
    "model.fit(x_train_flattened,y_train,epochs=5) #epochs=5 means itrate the training 5 times"
   ]
  },
  {
   "cell_type": "code",
   "execution_count": 46,
   "id": "97f22e51-fb7b-4f9b-bf44-7ceaebcbc6f8",
   "metadata": {},
   "outputs": [],
   "source": [
    "# the neural network model is trained and compiled\n",
    "# and we see with each itration the accuracy increased and loss decreased"
   ]
  },
  {
   "cell_type": "markdown",
   "id": "79245fb8-de74-4270-8a2f-f3bb03cf7350",
   "metadata": {},
   "source": [
    "#Evaluating the Accuracy on a Test dataset"
   ]
  },
  {
   "cell_type": "code",
   "execution_count": 47,
   "id": "d26d0503-b9a0-4ca8-b487-d868684e1391",
   "metadata": {},
   "outputs": [
    {
     "name": "stdout",
     "output_type": "stream",
     "text": [
      "\u001b[1m313/313\u001b[0m \u001b[32m━━━━━━━━━━━━━━━━━━━━\u001b[0m\u001b[37m\u001b[0m \u001b[1m0s\u001b[0m 855us/step - accuracy: 0.9128 - loss: 0.3051\n"
     ]
    },
    {
     "data": {
      "text/plain": [
       "[0.2688518166542053, 0.9243999719619751]"
      ]
     },
     "execution_count": 47,
     "metadata": {},
     "output_type": "execute_result"
    }
   ],
   "source": [
    "model.evaluate(x_test_flattened,y_test)"
   ]
  },
  {
   "cell_type": "markdown",
   "id": "f3dfd8eb-91cd-499a-9cb6-97c5688e3302",
   "metadata": {},
   "source": [
    "#prediction:"
   ]
  },
  {
   "cell_type": "code",
   "execution_count": 48,
   "id": "a97a9209-a548-4746-bcca-d67c864a3f7b",
   "metadata": {},
   "outputs": [
    {
     "data": {
      "text/plain": [
       "<matplotlib.image.AxesImage at 0x165c9954290>"
      ]
     },
     "execution_count": 48,
     "metadata": {},
     "output_type": "execute_result"
    },
    {
     "data": {
      "image/png": "[encoded data removed]",
      "text/plain": [
       "<Figure size 480x480 with 1 Axes>"
      ]
     },
     "metadata": {},
     "output_type": "display_data"
    }
   ],
   "source": [
    "plt.matshow(x_test[0])"
   ]
  },
  {
   "cell_type": "code",
   "execution_count": 49,
   "id": "1979468a-b628-4565-8bca-07d56b31a76c",
   "metadata": {},
   "outputs": [
    {
     "name": "stdout",
     "output_type": "stream",
     "text": [
      "\u001b[1m313/313\u001b[0m \u001b[32m━━━━━━━━━━━━━━━━━━━━\u001b[0m\u001b[37m\u001b[0m \u001b[1m0s\u001b[0m 840us/step\n"
     ]
    }
   ],
   "source": [
    "y_predicted = model.predict(x_test_flattened)"
   ]
  },
  {
   "cell_type": "code",
   "execution_count": 52,
   "id": "1997028e-bce9-4dfe-bfb3-ce100073d1e6",
   "metadata": {},
   "outputs": [],
   "source": [
    "#y_predicted will now have an array of 10 outputs from the neural network\n",
    "# the 10 outputs are the prediction score for digits 0-9\n",
    "# the digit which gets the maximum score will be the answer"
   ]
  },
  {
   "cell_type": "code",
   "execution_count": 54,
   "id": "ce5b933a-4ad9-41f3-90b3-737e85224f05",
   "metadata": {},
   "outputs": [
    {
     "data": {
      "text/plain": [
       "array([3.5815720e-02, 4.3012184e-07, 7.0149817e-02, 9.5077223e-01,\n",
       "       3.7456322e-03, 9.6417174e-02, 1.6335430e-06, 9.9987406e-01,\n",
       "       8.0712803e-02, 6.6156483e-01], dtype=float32)"
      ]
     },
     "execution_count": 54,
     "metadata": {},
     "output_type": "execute_result"
    }
   ],
   "source": [
    "y_predicted[0]"
   ]
  },
  {
   "cell_type": "code",
   "execution_count": 56,
   "id": "11467f3e-1d9c-4b69-a490-c705c6742b2b",
   "metadata": {},
   "outputs": [
    {
     "data": {
      "text/plain": [
       "7"
      ]
     },
     "execution_count": 56,
     "metadata": {},
     "output_type": "execute_result"
    }
   ],
   "source": [
    "# so the answer is :\n",
    "np.argmax(y_predicted[0])"
   ]
  },
  {
   "cell_type": "code",
   "execution_count": 57,
   "id": "7458a5e1-e9f8-4df1-a2e1-60586263d798",
   "metadata": {},
   "outputs": [],
   "source": [
    "# and the model predicted it correctly , the image is of a handwritten 7 "
   ]
  },
  {
   "cell_type": "code",
   "execution_count": 61,
   "id": "85211d75-f17d-42ee-94b6-cbb452f21287",
   "metadata": {},
   "outputs": [
    {
     "data": {
      "text/plain": [
       "<matplotlib.image.AxesImage at 0x165cb369730>"
      ]
     },
     "execution_count": 61,
     "metadata": {},
     "output_type": "execute_result"
    },
    {
     "data": {
      "image/png": "[encoded data removed]",
      "text/plain": [
       "<Figure size 480x480 with 1 Axes>"
      ]
     },
     "metadata": {},
     "output_type": "display_data"
    }
   ],
   "source": [
    "# lets test more:\n",
    "plt.matshow(x_test[6])"
   ]
  },
  {
   "cell_type": "code",
   "execution_count": 62,
   "id": "ee2b7771-7856-420c-8e3b-2ea147f40013",
   "metadata": {},
   "outputs": [
    {
     "data": {
      "text/plain": [
       "array([5.8640307e-04, 4.9841703e-05, 2.1095261e-04, 2.7573088e-02,\n",
       "       9.9822962e-01, 4.4741237e-01, 1.0460371e-02, 2.3717408e-01,\n",
       "       7.2815144e-01, 7.3133695e-01], dtype=float32)"
      ]
     },
     "execution_count": 62,
     "metadata": {},
     "output_type": "execute_result"
    }
   ],
   "source": [
    "y_predicted[6]"
   ]
  },
  {
   "cell_type": "code",
   "execution_count": 63,
   "id": "6d1ff0bf-fe9a-44aa-b39e-855e0e0bc8a5",
   "metadata": {},
   "outputs": [
    {
     "data": {
      "text/plain": [
       "4"
      ]
     },
     "execution_count": 63,
     "metadata": {},
     "output_type": "execute_result"
    }
   ],
   "source": [
    "np.argmax(y_predicted[6])"
   ]
  },
  {
   "cell_type": "markdown",
   "id": "34420d47-269a-4722-af46-1814f0f4e30b",
   "metadata": {},
   "source": [
    "# Confusion Matrix"
   ]
  },
  {
   "cell_type": "code",
   "execution_count": 64,
   "id": "dd52c770-ee0b-4ea7-ab15-3a34de28d2f1",
   "metadata": {},
   "outputs": [],
   "source": [
    "y_predicted_labels = [np.argmax(i) for i in y_predicted]"
   ]
  },
  {
   "cell_type": "code",
   "execution_count": 65,
   "id": "204ed7f9-677c-4f37-8d6d-fa9e625af48e",
   "metadata": {},
   "outputs": [
    {
     "data": {
      "text/plain": [
       "<tf.Tensor: shape=(10, 10), dtype=int32, numpy=\n",
       "array([[ 964,    0,    1,    1,    0,    5,    4,    4,    1,    0],\n",
       "       [   0, 1119,    4,    1,    0,    1,    4,    2,    4,    0],\n",
       "       [   6,   10,  932,   12,    8,    3,   12,   10,   34,    5],\n",
       "       [   5,    0,   26,  894,    0,   33,    2,   13,   22,   15],\n",
       "       [   1,    1,    5,    0,  913,    0,   10,    4,    6,   42],\n",
       "       [  11,    3,    4,   19,   11,  780,   14,    9,   32,    9],\n",
       "       [  12,    3,    7,    1,    7,   12,  912,    2,    2,    0],\n",
       "       [   1,    6,   24,    3,    8,    0,    0,  951,    1,   34],\n",
       "       [   8,   13,    7,   14,   10,   26,    9,   12,  856,   19],\n",
       "       [  11,    7,    1,    7,   27,    6,    0,   21,    6,  923]])>"
      ]
     },
     "execution_count": 65,
     "metadata": {},
     "output_type": "execute_result"
    }
   ],
   "source": [
    "cm = tf.math.confusion_matrix(labels=y_test,predictions=y_predicted_labels)\n",
    "cm"
   ]
  },
  {
   "cell_type": "code",
   "execution_count": 67,
   "id": "48ea7165-18b8-41ea-9681-a4ddb8fcdba2",
   "metadata": {},
   "outputs": [
    {
     "data": {
      "text/plain": [
       "Text(70.72222222222221, 0.5, 'Truth')"
      ]
     },
     "execution_count": 67,
     "metadata": {},
     "output_type": "execute_result"
    },
    {
     "data": {
      "image/png": "[encoded data removed]",
      "text/plain": [
       "<Figure size 800x700 with 2 Axes>"
      ]
     },
     "metadata": {},
     "output_type": "display_data"
    }
   ],
   "source": [
    "#lets see the confusion matrix in a heatmap:\n",
    "import seaborn as sns\n",
    "plt.figure(figsize=(8,7))\n",
    "sns.heatmap(cm,annot=True,fmt='d')\n",
    "plt.xlabel('predicted')\n",
    "plt.ylabel('Truth')"
   ]
  },
  {
   "cell_type": "code",
   "execution_count": null,
   "id": "d2460178-f61b-453c-80c4-55ac0bc94415",
   "metadata": {},
   "outputs": [],
   "source": []
  },
  {
   "cell_type": "markdown",
   "id": "dee3f15e-eec2-481c-b399-78dd26b9e79e",
   "metadata": {},
   "source": [
    "# Adding Hidden Layer"
   ]
  },
  {
   "cell_type": "code",
   "execution_count": 68,
   "id": "ddd1fcd0-93c3-4545-bdc2-aabde191d457",
   "metadata": {},
   "outputs": [
    {
     "name": "stderr",
     "output_type": "stream",
     "text": [
      "C:\\Users\\santo\\AppData\\Local\\Programs\\Python\\Python312\\Lib\\site-packages\\keras\\src\\layers\\core\\dense.py:87: UserWarning: Do not pass an `input_shape`/`input_dim` argument to a layer. When using Sequential models, prefer using an `Input(shape)` object as the first layer in the model instead.\n",
      "  super().__init__(activity_regularizer=activity_regularizer, **kwargs)\n"
     ]
    },
    {
     "name": "stdout",
     "output_type": "stream",
     "text": [
      "Epoch 1/5\n",
      "\u001b[1m1875/1875\u001b[0m \u001b[32m━━━━━━━━━━━━━━━━━━━━\u001b[0m\u001b[37m\u001b[0m \u001b[1m3s\u001b[0m 1ms/step - accuracy: 0.8718 - loss: 0.4505\n",
      "Epoch 2/5\n",
      "\u001b[1m1875/1875\u001b[0m \u001b[32m━━━━━━━━━━━━━━━━━━━━\u001b[0m\u001b[37m\u001b[0m \u001b[1m2s\u001b[0m 1ms/step - accuracy: 0.9623 - loss: 0.1313\n",
      "Epoch 3/5\n",
      "\u001b[1m1875/1875\u001b[0m \u001b[32m━━━━━━━━━━━━━━━━━━━━\u001b[0m\u001b[37m\u001b[0m \u001b[1m2s\u001b[0m 1ms/step - accuracy: 0.9736 - loss: 0.0887\n",
      "Epoch 4/5\n",
      "\u001b[1m1875/1875\u001b[0m \u001b[32m━━━━━━━━━━━━━━━━━━━━\u001b[0m\u001b[37m\u001b[0m \u001b[1m2s\u001b[0m 1ms/step - accuracy: 0.9791 - loss: 0.0669\n",
      "Epoch 5/5\n",
      "\u001b[1m1875/1875\u001b[0m \u001b[32m━━━━━━━━━━━━━━━━━━━━\u001b[0m\u001b[37m\u001b[0m \u001b[1m2s\u001b[0m 1ms/step - accuracy: 0.9847 - loss: 0.0487\n"
     ]
    },
    {
     "data": {
      "text/plain": [
       "<keras.src.callbacks.history.History at 0x165cc861130>"
      ]
     },
     "execution_count": 68,
     "metadata": {},
     "output_type": "execute_result"
    }
   ],
   "source": [
    "#lets add one more layer in the sequential\n",
    "model = keras.Sequential([\n",
    "    keras.layers.Dense(100,input_shape=(784,),activation='relu'), #using relu activation function\n",
    "    keras.layers.Dense(10,activation='sigmoid')\n",
    "]) \n",
    "#compilation of model\n",
    "model.compile(\n",
    "    optimizer='adam',\n",
    "    loss='sparse_categorical_crossentropy',\n",
    "    metrics=['accuracy']\n",
    ")\n",
    "#training:\n",
    "model.fit(x_train_flattened,y_train,epochs=5)"
   ]
  },
  {
   "cell_type": "code",
   "execution_count": 69,
   "id": "9463934f-032e-4fc5-bb54-5b07c7e9fa26",
   "metadata": {},
   "outputs": [
    {
     "name": "stdout",
     "output_type": "stream",
     "text": [
      "\u001b[1m313/313\u001b[0m \u001b[32m━━━━━━━━━━━━━━━━━━━━\u001b[0m\u001b[37m\u001b[0m \u001b[1m0s\u001b[0m 867us/step - accuracy: 0.9703 - loss: 0.0909\n"
     ]
    },
    {
     "data": {
      "text/plain": [
       "[0.0765448734164238, 0.9750999808311462]"
      ]
     },
     "execution_count": 69,
     "metadata": {},
     "output_type": "execute_result"
    }
   ],
   "source": [
    "model.evaluate(x_test_flattened,y_test)"
   ]
  },
  {
   "cell_type": "code",
   "execution_count": 76,
   "id": "50e22dd6-d274-4a28-8352-ca70dd117ebd",
   "metadata": {},
   "outputs": [
    {
     "name": "stdout",
     "output_type": "stream",
     "text": [
      "\u001b[1m313/313\u001b[0m \u001b[32m━━━━━━━━━━━━━━━━━━━━\u001b[0m\u001b[37m\u001b[0m \u001b[1m0s\u001b[0m 936us/step\n"
     ]
    }
   ],
   "source": [
    "y_predicted = model.predict(x_test_flattened)"
   ]
  },
  {
   "cell_type": "code",
   "execution_count": 77,
   "id": "6a79ff8a-22c1-49ed-9323-8e75388e4c44",
   "metadata": {},
   "outputs": [],
   "source": [
    "# after adding a hidden layer , the accuracy increased from 92%----->97%"
   ]
  },
  {
   "cell_type": "code",
   "execution_count": 78,
   "id": "0304e66a-ed33-4129-86e1-27f922b0e12d",
   "metadata": {},
   "outputs": [],
   "source": [
    "# we can see increased accuracy using confusing matrix"
   ]
  },
  {
   "cell_type": "code",
   "execution_count": 79,
   "id": "f9eabef9-2802-49a5-b049-16b6c0457fee",
   "metadata": {},
   "outputs": [],
   "source": [
    "y_predicted_labels = [np.argmax(i) for i in y_predicted]\n",
    "cm2 = tf.math.confusion_matrix(labels=y_test,predictions=y_predicted_labels)"
   ]
  },
  {
   "cell_type": "code",
   "execution_count": 80,
   "id": "5b460ed6-ba0a-40cf-a37e-f97d366a9170",
   "metadata": {},
   "outputs": [
    {
     "data": {
      "text/plain": [
       "Text(70.72222222222221, 0.5, 'Truth')"
      ]
     },
     "execution_count": 80,
     "metadata": {},
     "output_type": "execute_result"
    },
    {
     "data": {
      "image/png": "[encoded data removed]",
      "text/plain": [
       "<Figure size 800x700 with 2 Axes>"
      ]
     },
     "metadata": {},
     "output_type": "display_data"
    }
   ],
   "source": [
    "plt.figure(figsize=(8,7))\n",
    "sns.heatmap(cm2,annot=True,fmt='d')\n",
    "plt.xlabel('prediction after adding hidden layer')\n",
    "plt.ylabel('Truth')"
   ]
  },
  {
   "cell_type": "code",
   "execution_count": null,
   "id": "363dda65-353e-48a0-be15-4447774b8f16",
   "metadata": {},
   "outputs": [],
   "source": []
  }
 ],
 "metadata": {
  "kernelspec": {
   "display_name": "Python 3 (ipykernel)",
   "language": "python",
   "name": "python3"
  },
  "language_info": {
   "codemirror_mode": {
    "name": "ipython",
    "version": 3
   },
   "file_extension": ".py",
   "mimetype": "text/x-python",
   "name": "python",
   "nbconvert_exporter": "python",
   "pygments_lexer": "ipython3",
   "version": "3.12.4"
  }
 },
 "nbformat": 4,
 "nbformat_minor": 5
}
