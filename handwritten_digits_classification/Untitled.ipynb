{
 "cells": [
  {
   "cell_type": "code",
   "execution_count": 1,
   "id": "00a42476-9263-43f2-960e-c7ffa8e54f68",
   "metadata": {},
   "outputs": [],
   "source": [
    "import tensorflow as tf\n",
    "from tensorflow import keras\n",
    "import matplotlib.pyplot as plt\n",
    "%matplotlib inline\n",
    "import numpy as np"
   ]
  },
  {
   "cell_type": "markdown",
   "id": "47822fe1-788a-4c92-8b2d-315c8aa5214f",
   "metadata": {},
   "source": [
    "#Loading handwritten digits dataset from keras library"
   ]
  },
  {
   "cell_type": "code",
   "execution_count": 3,
   "id": "42517740-30ca-4d8d-bdcd-37a2ac881f73",
   "metadata": {},
   "outputs": [],
   "source": [
    "(x_train,y_train),(x_test,y_test) = keras.datasets.mnist.load_data()"
   ]
  },
  {
   "cell_type": "code",
   "execution_count": 5,
   "id": "84bdefd1-8c57-4e67-b49e-6dcb1f0678a9",
   "metadata": {},
   "outputs": [
    {
     "data": {
      "text/plain": [
       "60000"
      ]
     },
     "execution_count": 5,
     "metadata": {},
     "output_type": "execute_result"
    }
   ],
   "source": [
    "#lets see how many samples we have:\n",
    "len(x_train)"
   ]
  },
  {
   "cell_type": "code",
   "execution_count": 7,
   "id": "83032c5e-37d9-486a-994b-3239a6571641",
   "metadata": {},
   "outputs": [],
   "source": [
    "#hence we have 60000 digits images for training"
   ]
  },
  {
   "cell_type": "code",
   "execution_count": 8,
   "id": "23835032-8b5b-45dd-b067-c38a4da699e4",
   "metadata": {},
   "outputs": [
    {
     "data": {
      "text/plain": [
       "10000"
      ]
     },
     "execution_count": 8,
     "metadata": {},
     "output_type": "execute_result"
    }
   ],
   "source": [
    "#similarly number of images for testing:\n",
    "len(x_test)"
   ]
  },
  {
   "cell_type": "code",
   "execution_count": 9,
   "id": "d72d3bdf-bcbf-40ba-821f-e079591058ec",
   "metadata": {},
   "outputs": [
    {
     "data": {
      "text/plain": [
       "(28, 28)"
      ]
     },
     "execution_count": 9,
     "metadata": {},
     "output_type": "execute_result"
    }
   ],
   "source": [
    "x_train[0].shape"
   ]
  },
  {
   "cell_type": "code",
   "execution_count": 10,
   "id": "c23c9da9-d56f-40c0-b2e2-babfcc7a997e",
   "metadata": {},
   "outputs": [],
   "source": [
    "#each sample is a 28 by 28 pixel image"
   ]
  },
  {
   "cell_type": "markdown",
   "id": "694caa85-49c0-45f3-ba0e-a0ad12b49813",
   "metadata": {},
   "source": [
    "#lets see how it looks "
   ]
  },
  {
   "cell_type": "code",
   "execution_count": 11,
   "id": "d7829cce-3d18-46f3-9bd5-82ea95fcbfa4",
   "metadata": {},
   "outputs": [
    {
     "data": {
      "text/plain": [
       "<matplotlib.image.AxesImage at 0x165a47fc350>"
      ]
     },
     "execution_count": 11,
     "metadata": {},
     "output_type": "execute_result"
    },
    {
     "data": {
      "image/png": "[encoded data removed]",
      "text/plain": [
       "<Figure size 480x480 with 1 Axes>"
      ]
     },
     "metadata": {},
     "output_type": "display_data"
    }
   ],
   "source": [
    "plt.matshow(x_train[0])"
   ]
  },
  {
   "cell_type": "code",
   "execution_count": 12,
   "id": "d5a662c2-89ea-4ab0-98ea-78fd26622f52",
   "metadata": {},
   "outputs": [],
   "source": [
    "#it is a image of handwritten 5"
   ]
  },
  {
   "cell_type": "code",
   "execution_count": 14,
   "id": "b14bc8da-ef91-461c-bb79-53412f2da90c",
   "metadata": {},
   "outputs": [
    {
     "data": {
      "text/plain": [
       "5"
      ]
     },
     "execution_count": 14,
     "metadata": {},
     "output_type": "execute_result"
    }
   ],
   "source": [
    "#lets see what value is given in the training data for this image (it should be 5):\n",
    "y_train[0]"
   ]
  },
  {
   "cell_type": "code",
   "execution_count": 15,
   "id": "ffc4aa9d-d90a-4d0d-a0d9-aa8ddd3fd9d5",
   "metadata": {},
   "outputs": [],
   "source": [
    "#similarly lets check for some other training data:"
   ]
  },
  {
   "cell_type": "code",
   "execution_count": 17,
   "id": "1bb4e773-4093-4a0a-bfce-bdd29d0785a3",
   "metadata": {},
   "outputs": [
    {
     "data": {
      "text/plain": [
       "<matplotlib.image.AxesImage at 0x165a5063530>"
      ]
     },
     "execution_count": 17,
     "metadata": {},
     "output_type": "execute_result"
    },
    {
     "data": {
      "image/png": "[encoded data removed]",
      "text/plain": [
       "<Figure size 480x480 with 1 Axes>"
      ]
     },
     "metadata": {},
     "output_type": "display_data"
    }
   ],
   "source": [
    "plt.matshow(x_train[4])"
   ]
  },
  {
   "cell_type": "code",
   "execution_count": 18,
   "id": "0c9e5791-f823-4f74-8b4b-cd82cf69778b",
   "metadata": {},
   "outputs": [
    {
     "data": {
      "text/plain": [
       "9"
      ]
     },
     "execution_count": 18,
     "metadata": {},
     "output_type": "execute_result"
    }
   ],
   "source": [
    "#value:\n",
    "y_train[4]"
   ]
  },
  {
   "cell_type": "code",
   "execution_count": 19,
   "id": "42a4bcba-3d3f-4c22-b434-a6de372d9c22",
   "metadata": {},
   "outputs": [],
   "source": [
    "#so we can see this is how the data is trained"
   ]
  },
  {
   "cell_type": "code",
   "execution_count": null,
   "id": "81d5f81b-c007-46ec-b7a9-6c02133fe4da",
   "metadata": {},
   "outputs": [],
   "source": []
  }
 ],
 "metadata": {
  "kernelspec": {
   "display_name": "Python 3 (ipykernel)",
   "language": "python",
   "name": "python3"
  },
  "language_info": {
   "codemirror_mode": {
    "name": "ipython",
    "version": 3
   },
   "file_extension": ".py",
   "mimetype": "text/x-python",
   "name": "python",
   "nbconvert_exporter": "python",
   "pygments_lexer": "ipython3",
   "version": "3.12.4"
  }
 },
 "nbformat": 4,
 "nbformat_minor": 5
}
